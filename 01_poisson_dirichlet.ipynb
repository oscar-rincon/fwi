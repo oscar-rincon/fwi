{
 "cells": [
  {
   "cell_type": "markdown",
   "metadata": {},
   "source": [
    "## Poisson en 2D con condiciones de frontera de Dirichlet\n",
    "\n",
    "En este notebook, resolveremos la ecuación de Poisson en 2D con condiciones de frontera de Dirichlet. La ecuación de Poisson se utiliza para describir fenómenos de potencial, como el campo eléctrico y el campo gravitacional, en un dominio espacial.\n",
    "\n",
    "La ecuación de Poisson en 2D está dada por:\n",
    "\n",
    "$$ \\frac{\\partial^2 u}{\\partial x^2} + \\frac{\\partial^2 u}{\\partial y^2} = f(x, y), \\quad (x, y) \\in \\Omega $$\n",
    "\n",
    "donde $ \\Omega = [0, 1] \\times [0, 1] $ y $ f(x, y) $ es el término fuente.\n",
    "\n",
    "Las condiciones de frontera son:\n",
    "\n",
    "$$ u(x, y) = 0, \\quad (x, y) \\in \\partial \\Omega $$\n",
    "\n",
    "El término fuente $ f(x, y) $ está definido como:\n",
    "\n",
    "$$ f(x, y) = -32 \\left[ (1 - y) y + (1 - x) x \\right] $$\n",
    "\n",
    "La solución exacta de la ecuación es:\n",
    "\n",
    "$$ u(x, y) = 16 (1 - x) x (1 - y) y $$\n",
    "\n",
    "En este notebook, utilizaremos el método de diferencias finitas para resolver numéricamente esta ecuación y compararemos la solución numérica con la solución exacta."
   ]
  },
  {
   "cell_type": "code",
   "execution_count": 2,
   "metadata": {},
   "outputs": [],
   "source": [
    "from devito import Grid, Function,TimeFunction, Eq, Operator, configuration, Eq, solve # Importing necessary functions from Devito\n",
    "import numpy as np # Importing NumPy\n",
    "import matplotlib.pyplot as plt # Importing Matplotlib"
   ]
  },
  {
   "cell_type": "code",
   "execution_count": 3,
   "metadata": {},
   "outputs": [],
   "source": [
    "# Parameters\n",
    "nx = 200  # Number of grid points in the x direction\n",
    "ny = 200  # Number of grid points in the y direction\n",
    "nt = int(1e+5)  # Number of time steps (not used in this static problem)\n",
    "xmin = 0.  # Minimum x value\n",
    "ymin = 0.  # Minimum y value\n",
    "xmax = 1.  # Maximum x value\n",
    "ymax = 1.  # Maximum y value\n",
    "extent = (xmin, xmax, ymin, ymax)  # Extent of the grid\n",
    "\n",
    "# Increase the space order for higher accuracy\n",
    "space_order = 2\n",
    "\n",
    "# Silence the runtime performance logging\n",
    "configuration['log-level'] = 'ERROR'\n",
    "\n",
    "# Create the grid\n",
    "grid = Grid(shape=(nx, ny), extent=(xmax, ymax))\n",
    "x, y = grid.dimensions\n",
    "t = grid.stepping_dim"
   ]
  },
  {
   "cell_type": "code",
   "execution_count": 4,
   "metadata": {},
   "outputs": [],
   "source": [
    "# Now with Devito we will turn `p` into a `TimeFunction` object \n",
    "# to make all the buffer switching implicit\n",
    "p = TimeFunction(name='p', grid=grid, space_order=space_order)\n",
    "\n",
    "# Initialize the data of `p` to zero\n",
    "p.data[:] = 0."
   ]
  },
  {
   "cell_type": "code",
   "execution_count": 5,
   "metadata": {},
   "outputs": [],
   "source": [
    "# Initialise the source term `b`\n",
    "b = Function(name='b', grid=grid)\n",
    "b.data[:] = 0.\n",
    "\n",
    "# Generate the x and y values for the grid\n",
    "x_vals = np.linspace(xmin, xmax, nx)\n",
    "y_vals = np.linspace(ymin, ymax, ny)\n",
    "\n",
    "# Create a meshgrid for the x and y values\n",
    "X, Y = np.meshgrid(x_vals, y_vals)\n",
    "\n",
    "# Define the source term `b` using the given formula\n",
    "b.data[:] = -32 * ((1 - Y) * Y + (1 - X) * X)"
   ]
  },
  {
   "cell_type": "code",
   "execution_count": 6,
   "metadata": {},
   "outputs": [
    {
     "data": {
      "text/latex": [
       "$\\displaystyle p(t + dt, x, y) = - \\frac{0.5 \\left(h_{x}^{2} h_{y}^{2} b(x, y) - h_{x}^{2} p(t, x, y - h_y) - h_{x}^{2} p(t, x, y + h_y) - h_{y}^{2} p(t, x - h_x, y) - h_{y}^{2} p(t, x + h_x, y)\\right)}{h_{x}^{2} + h_{y}^{2}}$"
      ],
      "text/plain": [
       "Eq(p(t + dt, x, y), -0.5*(h_x**2*h_y**2*b(x, y) - h_x**2*p(t, x, y - h_y) - h_x**2*p(t, x, y + h_y) - h_y**2*p(t, x - h_x, y) - h_y**2*p(t, x + h_x, y))/(h_x**2 + h_y**2))"
      ]
     },
     "execution_count": 6,
     "metadata": {},
     "output_type": "execute_result"
    }
   ],
   "source": [
    "# Create the Laplace equation based on `p`\n",
    "eq = Eq(p.laplace, b)\n",
    "\n",
    "# Let SymPy solve for the central stencil point\n",
    "stencil = solve(eq, p)\n",
    "\n",
    "# Let our stencil populate the buffer `p.forward`\n",
    "eq_stencil = Eq(p.forward, stencil)\n",
    "\n",
    "# Display the stencil equation\n",
    "eq_stencil"
   ]
  },
  {
   "cell_type": "code",
   "execution_count": 7,
   "metadata": {},
   "outputs": [],
   "source": [
    "# Create the boundary conditions\n",
    "# p = 0 at y = ymin\n",
    "bc = [Eq(p[t + 1, x, 0], 0.)]\n",
    "\n",
    "# p = 0 at y = ymax\n",
    "bc += [Eq(p[t + 1, x, ny-1], 0.)]\n",
    "\n",
    "# p = 0 at x = xmin\n",
    "bc += [Eq(p[t + 1, 0, y], 0.)]\n",
    "\n",
    "# p = 0 at x = xmax\n",
    "bc += [Eq(p[t + 1, nx-1, y], 0.)]"
   ]
  },
  {
   "cell_type": "code",
   "execution_count": 8,
   "metadata": {},
   "outputs": [
    {
     "name": "stdout",
     "output_type": "stream",
     "text": [
      "CPU times: user 597 ms, sys: 0 ns, total: 597 ms\n",
      "Wall time: 601 ms\n"
     ]
    },
    {
     "data": {
      "text/plain": [
       "PerformanceSummary([(PerfKey(name='section0', rank=None),\n",
       "                     PerfEntry(time=0.5770879999996944, gflopss=0.0, gpointss=0.0, oi=0.0, ops=0, itershapes=[])),\n",
       "                    (PerfKey(name='section1', rank=None),\n",
       "                     PerfEntry(time=0.0028820000000000564, gflopss=0.0, gpointss=0.0, oi=0.0, ops=0, itershapes=[]))])"
      ]
     },
     "execution_count": 8,
     "metadata": {},
     "output_type": "execute_result"
    }
   ],
   "source": [
    "# Set the log level to 'ERROR' to reduce verbosity\n",
    "configuration['log-level'] = 'ERROR'\n",
    "\n",
    "# Create and execute the operator for a number of timesteps\n",
    "op = Operator([eq_stencil] + bc)\n",
    "\n",
    "# Measure the execution time of the operator\n",
    "%time op(time=nt)"
   ]
  },
  {
   "cell_type": "code",
   "execution_count": 16,
   "metadata": {},
   "outputs": [
    {
     "data": {
      "image/png": "[encoded data removed]",
      "text/plain": [
       "<Figure size 640x480 with 2 Axes>"
      ]
     },
     "metadata": {},
     "output_type": "display_data"
    }
   ],
   "source": [
    "# Plot the numerical solution at the initial time step\n",
    "plt.contourf(p.data[0], cmap='magma', extent=extent, levels=10)\n",
    "\n",
    "# Add a colorbar to the plot\n",
    "plt.colorbar(shrink=0.8)\n",
    "\n",
    "# Display the plot\n",
    "plt.show()"
   ]
  },
  {
   "cell_type": "code",
   "execution_count": 17,
   "metadata": {},
   "outputs": [
    {
     "data": {
      "image/png": "[encoded data removed]",
      "text/plain": [
       "<Figure size 640x480 with 2 Axes>"
      ]
     },
     "metadata": {},
     "output_type": "display_data"
    }
   ],
   "source": [
    "# Calculate the exact solution\n",
    "u_exact = 16 * (1 - X) * X * (1 - Y) * Y\n",
    "\n",
    "# Plot the exact solution\n",
    "plt.contourf(u_exact, cmap='magma', extent=extent, levels=10)\n",
    "\n",
    "# Add a colorbar to the plot\n",
    "plt.colorbar(shrink=0.8)\n",
    "\n",
    "# Display the plot\n",
    "plt.show()"
   ]
  },
  {
   "cell_type": "code",
   "execution_count": 18,
   "metadata": {},
   "outputs": [
    {
     "name": "stdout",
     "output_type": "stream",
     "text": [
      "Relative error norm: 0.00018\n"
     ]
    }
   ],
   "source": [
    "# Calculate the relative error\n",
    "error = np.linalg.norm(p.data[nt].flatten() - u_exact.flatten()) / np.linalg.norm(u_exact.flatten())\n",
    "\n",
    "# Print the relative error norm\n",
    "print('Relative error norm: %.5f' % error)"
   ]
  }
 ],
 "metadata": {
  "kernelspec": {
   "display_name": "fwi",
   "language": "python",
   "name": "python3"
  },
  "language_info": {
   "codemirror_mode": {
    "name": "ipython",
    "version": 3
   },
   "file_extension": ".py",
   "mimetype": "text/x-python",
   "name": "python",
   "nbconvert_exporter": "python",
   "pygments_lexer": "ipython3",
   "version": "3.13.2"
  }
 },
 "nbformat": 4,
 "nbformat_minor": 2
}
